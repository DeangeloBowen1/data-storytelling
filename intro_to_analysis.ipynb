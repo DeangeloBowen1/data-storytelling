{
 "cells": [
  {
   "cell_type": "markdown",
   "id": "5713e1cd",
   "metadata": {},
   "source": [
    "# 3 Step Process to Analyzing Your Data (General case)\n",
    "1. Define your goal, why this matters, your target variable, initial hypotheses (write these down)\n",
    "2. Get to know your data: obtain a 10,000 ft view of your data before diving in (write down what you learn/discover)\n",
    "3. Answer your initial hypotheses questions with visuals and statistics (write down takeaways as you go)"
   ]
  },
  {
   "cell_type": "markdown",
   "id": "1960d36b",
   "metadata": {},
   "source": [
    "## Step 1: Define your goal. What's the impact? Who benefits? Why does this matter? \n",
    "- Take *lots* of written or typed notes here. \n",
    "- What, exactly, are you seeking to understand?\n",
    "- Define your target variable. Does one exist in your dataset?\n",
    "- Define your initial hypotheses: literally write them down\n",
    "    - Are the stakeholders hoping to confirm or deny something already? That's a good start.\n",
    "    - What initial hunches do you have? How could you confirm or deny them?\n",
    "    - Are there industry based hunches you can confirm or deny?\n",
    "    - If you have data from your industry, how does your dataset compare?\n",
    "    - Based on the columns you have, do you see anything you *know* you need to look at?\n",
    "- Define your Minimum Viable Product (MVP)\n",
    "    - How do you know when you're done?\n",
    "    - How do you know when you've got something to deliver?\n",
    "    - If something seems interesting but out of scope, add it to your backlog and get back to the heart of the matter"
   ]
  },
  {
   "cell_type": "markdown",
   "id": "55a904e1",
   "metadata": {},
   "source": [
    "### How to Generate Initial Hypotheses  \n",
    "\n",
    "Think and write down your thoughts\n",
    "\n",
    "![](hypothesis_generation.png)"
   ]
  },
  {
   "cell_type": "markdown",
   "id": "c9f4c497",
   "metadata": {},
   "source": [
    "### Defining Your Minimum Viable Product (MVP)\n",
    "\n",
    "The real MVP is producing insight and takeaways stakeholders can use to improve their decision making\n",
    "\n",
    "What would a Minimum Viable Product look like? You likely won't have 6 months to produce answers.\n",
    "\n",
    "![](mvp.png)"
   ]
  },
  {
   "cell_type": "markdown",
   "id": "16c57b34",
   "metadata": {},
   "source": [
    "## Step 2: Get to know your data at a high level\n",
    "- *Dump out all your legos and take inventory of what you have*\n",
    "- Take lots of written or typed notes as you move through these steps)\n",
    "- Hunt down a data dictionary that explains what each column of your data is or represents.\n",
    "    - This may mean talking to people\n",
    "    - This may mean having coffee w/ someone from accounting to pick their brain\n",
    "- Determine if there's any columns needing cleaning or a change in data type\n",
    "- Hunt for any nulls or missing data. Write down how you handle them. There's no one right answer.\n",
    "- What's the distribution of your target variable? What about your most interesting variables?"
   ]
  },
  {
   "cell_type": "markdown",
   "id": "9e06b908",
   "metadata": {},
   "source": [
    "![](storytelling.webp)"
   ]
  },
  {
   "cell_type": "markdown",
   "id": "2280fcfc",
   "metadata": {},
   "source": [
    "## Step 3: Answer your initial hypotheses with visuals and statistics\n",
    "- Always write down your takeaways as you learn or reveal them\n",
    "- Use visuals, descriptive stats, and inferential stats to answer your hypotheses\n",
    "- Start with one hypothesis at a time.\n",
    "- Visualize and get stats on the population\n",
    "- Start making subgroups to compare subgroups to the population and subgroups to subgroups\n",
    "- Focus on getting the biggest bang for your buck rather than counting toenails on an ant.\n",
    "\n",
    "![](descriptive-and-inferential-statistics.jpeg)"
   ]
  },
  {
   "cell_type": "markdown",
   "id": "84745305",
   "metadata": {},
   "source": [
    "### Explore Relationships Between Variables and the Target Variable\n",
    "![](hypothesis.jpeg)"
   ]
  },
  {
   "cell_type": "markdown",
   "id": "7ce5bca6",
   "metadata": {},
   "source": [
    "# 3 Step Process to Data Analysis (Specific case with HR Attrition Data)\n",
    "1. Define your goal, why this matters, your target variable, initial hypotheses (write these down)\n",
    "2. Get to know your data: obtain a 10,000 ft view of your data before diving in (write down what you learn/discover)\n",
    "3. Answer your initial hypotheses questions with visuals and statistics (write down takeaways as you go)"
   ]
  },
  {
   "cell_type": "markdown",
   "id": "7af0b1d8",
   "metadata": {},
   "source": [
    "## Step 1 is to define our goal, why it matters, identify target variable, state the hypothesis\n",
    "\n",
    "- Manager shows up and says **\"Hr gave us this data and wants to know why people are leaving?\"**\n",
    "- Our goal: What are the drivers of attrition?\n",
    "- Why does this matter: \n",
    "    - losing experience to competition\n",
    "    - decrease labor costs \n",
    "    - Productivity\n",
    "    -  (You can also google search) Replacing an employee can cost between 50%-200% of their salary. \n",
    "        - you can use this information to make an arguement or form a stronger hypothesis. \n",
    "    - Current team picking up slack. Lower morale, snowball effect of attrition, etc. \n",
    "\n",
    "- What is our target variable: Attrition itself\n",
    "- What are some interesting variables that you think might drive attrition (initial hypotheses)\n",
    "    - Year since last promotion: relationship between year since promotion and attrition? \n",
    "    - Overtime: What's the relationship between overtime and attrition?\n",
    "    - Job/Relationship satisfaction (Job culture)\n",
    "    - Years in role\n",
    "    - Monthly Income\n",
    "    - Marital status or other demographic info\n",
    "- What would a minimally viable product look like? == First Draft (*Second draft makes it look like you know what you were doing all alone*)\n",
    "    - What target rate are we hitting with churn? \n",
    "        - Look at correlations \n",
    "    - Now, what tells the biggest stories?\n",
    "        - Get an answer\n",
    "        - define a Deliverable : could be an email with a few sentences and recommendations.\n",
    "        - Could be an ML model for engineering team. \n",
    "        - Would be a slideshow\n",
    "    - Take surveys like job satisfaction and work/life balance - how honest are they? Should we believe them?\n",
    "- Always soruce data: "
   ]
  },
  {
   "cell_type": "markdown",
   "id": "2cfcd543",
   "metadata": {},
   "source": [
    "## Step 2: Get to know the Data at a high level\n",
    "- Histograms and .value_counts of our target variable and variables of interest\n",
    "- Determine if we can have any missing values\n",
    "- General guideline: if you're comparing two variables:\n",
    "    - if looking at variables x and y we need to operate on the \"train\" dataset. \n",
    "    - if youre doing any ML, split the data before exploring.(i.e looking at multiple variables together. )"
   ]
  },
  {
   "cell_type": "code",
   "execution_count": 2,
   "id": "79cf169c",
   "metadata": {},
   "outputs": [],
   "source": [
    "import seaborn as sns\n",
    "import matplotlib.pyplot as plt\n",
    "import pandas as pd\n",
    "df = pd.read_csv(\"attrition.csv\")"
   ]
  },
  {
   "cell_type": "code",
   "execution_count": 3,
   "id": "d6f232fd",
   "metadata": {},
   "outputs": [
    {
     "data": {
      "text/html": [
       "<div>\n",
       "<style scoped>\n",
       "    .dataframe tbody tr th:only-of-type {\n",
       "        vertical-align: middle;\n",
       "    }\n",
       "\n",
       "    .dataframe tbody tr th {\n",
       "        vertical-align: top;\n",
       "    }\n",
       "\n",
       "    .dataframe thead th {\n",
       "        text-align: right;\n",
       "    }\n",
       "</style>\n",
       "<table border=\"1\" class=\"dataframe\">\n",
       "  <thead>\n",
       "    <tr style=\"text-align: right;\">\n",
       "      <th></th>\n",
       "      <th>0</th>\n",
       "      <th>1</th>\n",
       "    </tr>\n",
       "  </thead>\n",
       "  <tbody>\n",
       "    <tr>\n",
       "      <th>Age</th>\n",
       "      <td>41</td>\n",
       "      <td>49</td>\n",
       "    </tr>\n",
       "    <tr>\n",
       "      <th>Attrition</th>\n",
       "      <td>Yes</td>\n",
       "      <td>No</td>\n",
       "    </tr>\n",
       "    <tr>\n",
       "      <th>BusinessTravel</th>\n",
       "      <td>Travel_Rarely</td>\n",
       "      <td>Travel_Frequently</td>\n",
       "    </tr>\n",
       "    <tr>\n",
       "      <th>DailyRate</th>\n",
       "      <td>1102</td>\n",
       "      <td>279</td>\n",
       "    </tr>\n",
       "    <tr>\n",
       "      <th>Department</th>\n",
       "      <td>Sales</td>\n",
       "      <td>Research &amp; Development</td>\n",
       "    </tr>\n",
       "    <tr>\n",
       "      <th>DistanceFromHome</th>\n",
       "      <td>1</td>\n",
       "      <td>8</td>\n",
       "    </tr>\n",
       "    <tr>\n",
       "      <th>Education</th>\n",
       "      <td>2</td>\n",
       "      <td>1</td>\n",
       "    </tr>\n",
       "    <tr>\n",
       "      <th>EducationField</th>\n",
       "      <td>Life Sciences</td>\n",
       "      <td>Life Sciences</td>\n",
       "    </tr>\n",
       "    <tr>\n",
       "      <th>EmployeeCount</th>\n",
       "      <td>1</td>\n",
       "      <td>1</td>\n",
       "    </tr>\n",
       "    <tr>\n",
       "      <th>EmployeeNumber</th>\n",
       "      <td>1</td>\n",
       "      <td>2</td>\n",
       "    </tr>\n",
       "    <tr>\n",
       "      <th>EnvironmentSatisfaction</th>\n",
       "      <td>2</td>\n",
       "      <td>3</td>\n",
       "    </tr>\n",
       "    <tr>\n",
       "      <th>Gender</th>\n",
       "      <td>Female</td>\n",
       "      <td>Male</td>\n",
       "    </tr>\n",
       "    <tr>\n",
       "      <th>HourlyRate</th>\n",
       "      <td>94</td>\n",
       "      <td>61</td>\n",
       "    </tr>\n",
       "    <tr>\n",
       "      <th>JobInvolvement</th>\n",
       "      <td>3</td>\n",
       "      <td>2</td>\n",
       "    </tr>\n",
       "    <tr>\n",
       "      <th>JobLevel</th>\n",
       "      <td>2</td>\n",
       "      <td>2</td>\n",
       "    </tr>\n",
       "    <tr>\n",
       "      <th>JobRole</th>\n",
       "      <td>Sales Executive</td>\n",
       "      <td>Research Scientist</td>\n",
       "    </tr>\n",
       "    <tr>\n",
       "      <th>JobSatisfaction</th>\n",
       "      <td>4</td>\n",
       "      <td>2</td>\n",
       "    </tr>\n",
       "    <tr>\n",
       "      <th>MaritalStatus</th>\n",
       "      <td>Single</td>\n",
       "      <td>Married</td>\n",
       "    </tr>\n",
       "    <tr>\n",
       "      <th>MonthlyIncome</th>\n",
       "      <td>5993</td>\n",
       "      <td>5130</td>\n",
       "    </tr>\n",
       "    <tr>\n",
       "      <th>MonthlyRate</th>\n",
       "      <td>19479</td>\n",
       "      <td>24907</td>\n",
       "    </tr>\n",
       "    <tr>\n",
       "      <th>NumCompaniesWorked</th>\n",
       "      <td>8</td>\n",
       "      <td>1</td>\n",
       "    </tr>\n",
       "    <tr>\n",
       "      <th>Over18</th>\n",
       "      <td>Y</td>\n",
       "      <td>Y</td>\n",
       "    </tr>\n",
       "    <tr>\n",
       "      <th>OverTime</th>\n",
       "      <td>Yes</td>\n",
       "      <td>No</td>\n",
       "    </tr>\n",
       "    <tr>\n",
       "      <th>PercentSalaryHike</th>\n",
       "      <td>11</td>\n",
       "      <td>23</td>\n",
       "    </tr>\n",
       "    <tr>\n",
       "      <th>PerformanceRating</th>\n",
       "      <td>3</td>\n",
       "      <td>4</td>\n",
       "    </tr>\n",
       "    <tr>\n",
       "      <th>RelationshipSatisfaction</th>\n",
       "      <td>1</td>\n",
       "      <td>4</td>\n",
       "    </tr>\n",
       "    <tr>\n",
       "      <th>StandardHours</th>\n",
       "      <td>80</td>\n",
       "      <td>80</td>\n",
       "    </tr>\n",
       "    <tr>\n",
       "      <th>StockOptionLevel</th>\n",
       "      <td>0</td>\n",
       "      <td>1</td>\n",
       "    </tr>\n",
       "    <tr>\n",
       "      <th>TotalWorkingYears</th>\n",
       "      <td>8</td>\n",
       "      <td>10</td>\n",
       "    </tr>\n",
       "    <tr>\n",
       "      <th>TrainingTimesLastYear</th>\n",
       "      <td>0</td>\n",
       "      <td>3</td>\n",
       "    </tr>\n",
       "    <tr>\n",
       "      <th>WorkLifeBalance</th>\n",
       "      <td>1</td>\n",
       "      <td>3</td>\n",
       "    </tr>\n",
       "    <tr>\n",
       "      <th>YearsAtCompany</th>\n",
       "      <td>6</td>\n",
       "      <td>10</td>\n",
       "    </tr>\n",
       "    <tr>\n",
       "      <th>YearsInCurrentRole</th>\n",
       "      <td>4</td>\n",
       "      <td>7</td>\n",
       "    </tr>\n",
       "    <tr>\n",
       "      <th>YearsSinceLastPromotion</th>\n",
       "      <td>0</td>\n",
       "      <td>1</td>\n",
       "    </tr>\n",
       "    <tr>\n",
       "      <th>YearsWithCurrManager</th>\n",
       "      <td>5</td>\n",
       "      <td>7</td>\n",
       "    </tr>\n",
       "  </tbody>\n",
       "</table>\n",
       "</div>"
      ],
      "text/plain": [
       "                                        0                       1\n",
       "Age                                    41                      49\n",
       "Attrition                             Yes                      No\n",
       "BusinessTravel              Travel_Rarely       Travel_Frequently\n",
       "DailyRate                            1102                     279\n",
       "Department                          Sales  Research & Development\n",
       "DistanceFromHome                        1                       8\n",
       "Education                               2                       1\n",
       "EducationField              Life Sciences           Life Sciences\n",
       "EmployeeCount                           1                       1\n",
       "EmployeeNumber                          1                       2\n",
       "EnvironmentSatisfaction                 2                       3\n",
       "Gender                             Female                    Male\n",
       "HourlyRate                             94                      61\n",
       "JobInvolvement                          3                       2\n",
       "JobLevel                                2                       2\n",
       "JobRole                   Sales Executive      Research Scientist\n",
       "JobSatisfaction                         4                       2\n",
       "MaritalStatus                      Single                 Married\n",
       "MonthlyIncome                        5993                    5130\n",
       "MonthlyRate                         19479                   24907\n",
       "NumCompaniesWorked                      8                       1\n",
       "Over18                                  Y                       Y\n",
       "OverTime                              Yes                      No\n",
       "PercentSalaryHike                      11                      23\n",
       "PerformanceRating                       3                       4\n",
       "RelationshipSatisfaction                1                       4\n",
       "StandardHours                          80                      80\n",
       "StockOptionLevel                        0                       1\n",
       "TotalWorkingYears                       8                      10\n",
       "TrainingTimesLastYear                   0                       3\n",
       "WorkLifeBalance                         1                       3\n",
       "YearsAtCompany                          6                      10\n",
       "YearsInCurrentRole                      4                       7\n",
       "YearsSinceLastPromotion                 0                       1\n",
       "YearsWithCurrManager                    5                       7"
      ]
     },
     "execution_count": 3,
     "metadata": {},
     "output_type": "execute_result"
    }
   ],
   "source": [
    "# print out the first few records\n",
    "\n",
    "df.head(2).T"
   ]
  },
  {
   "cell_type": "code",
   "execution_count": 4,
   "id": "997ce181",
   "metadata": {},
   "outputs": [
    {
     "data": {
      "text/plain": [
       "<AxesSubplot:>"
      ]
     },
     "execution_count": 4,
     "metadata": {},
     "output_type": "execute_result"
    },
    {
     "data": {
      "image/png": "[encoded data removed]",
      "text/plain": [
       "<Figure size 432x288 with 1 Axes>"
      ]
     },
     "metadata": {
      "needs_background": "light"
     },
     "output_type": "display_data"
    }
   ],
   "source": [
    "# Our target variable is attrition so lets\n",
    "# get a value_count or histogram\n",
    "\n",
    "df.Attrition.hist()"
   ]
  },
  {
   "cell_type": "code",
   "execution_count": 6,
   "id": "2a46a6bf",
   "metadata": {},
   "outputs": [
    {
     "data": {
      "text/plain": [
       "No     1233\n",
       "Yes     237\n",
       "Name: Attrition, dtype: int64"
      ]
     },
     "execution_count": 6,
     "metadata": {},
     "output_type": "execute_result"
    }
   ],
   "source": [
    "df.Attrition.value_counts()"
   ]
  },
  {
   "cell_type": "code",
   "execution_count": 9,
   "id": "fa36f55e",
   "metadata": {},
   "outputs": [
    {
     "data": {
      "text/plain": [
       "16.122448979591837"
      ]
     },
     "execution_count": 9,
     "metadata": {},
     "output_type": "execute_result"
    }
   ],
   "source": [
    "# what is the proportion of attrition?\n",
    "df[df.Attrition == \"Yes\"].shape[0] / df.shape[0] * 100\n",
    "\n",
    "# percent :"
   ]
  },
  {
   "cell_type": "markdown",
   "id": "3494cb62",
   "metadata": {},
   "source": [
    "- search a healthy attrition for company,\n",
    "- if a healthy attrition is 10% \n",
    "- Takeaway : This company has 60% more attrition than what is \n",
    "- statistically healthy (16 = 60% more than 10)"
   ]
  },
  {
   "cell_type": "code",
   "execution_count": 10,
   "id": "a3d86e18",
   "metadata": {
    "scrolled": false
   },
   "outputs": [
    {
     "name": "stdout",
     "output_type": "stream",
     "text": [
      "<class 'pandas.core.frame.DataFrame'>\n",
      "RangeIndex: 1470 entries, 0 to 1469\n",
      "Data columns (total 35 columns):\n",
      " #   Column                    Non-Null Count  Dtype \n",
      "---  ------                    --------------  ----- \n",
      " 0   Age                       1470 non-null   int64 \n",
      " 1   Attrition                 1470 non-null   object\n",
      " 2   BusinessTravel            1470 non-null   object\n",
      " 3   DailyRate                 1470 non-null   int64 \n",
      " 4   Department                1470 non-null   object\n",
      " 5   DistanceFromHome          1470 non-null   int64 \n",
      " 6   Education                 1470 non-null   int64 \n",
      " 7   EducationField            1470 non-null   object\n",
      " 8   EmployeeCount             1470 non-null   int64 \n",
      " 9   EmployeeNumber            1470 non-null   int64 \n",
      " 10  EnvironmentSatisfaction   1470 non-null   int64 \n",
      " 11  Gender                    1470 non-null   object\n",
      " 12  HourlyRate                1470 non-null   int64 \n",
      " 13  JobInvolvement            1470 non-null   int64 \n",
      " 14  JobLevel                  1470 non-null   int64 \n",
      " 15  JobRole                   1470 non-null   object\n",
      " 16  JobSatisfaction           1470 non-null   int64 \n",
      " 17  MaritalStatus             1470 non-null   object\n",
      " 18  MonthlyIncome             1470 non-null   int64 \n",
      " 19  MonthlyRate               1470 non-null   int64 \n",
      " 20  NumCompaniesWorked        1470 non-null   int64 \n",
      " 21  Over18                    1470 non-null   object\n",
      " 22  OverTime                  1470 non-null   object\n",
      " 23  PercentSalaryHike         1470 non-null   int64 \n",
      " 24  PerformanceRating         1470 non-null   int64 \n",
      " 25  RelationshipSatisfaction  1470 non-null   int64 \n",
      " 26  StandardHours             1470 non-null   int64 \n",
      " 27  StockOptionLevel          1470 non-null   int64 \n",
      " 28  TotalWorkingYears         1470 non-null   int64 \n",
      " 29  TrainingTimesLastYear     1470 non-null   int64 \n",
      " 30  WorkLifeBalance           1470 non-null   int64 \n",
      " 31  YearsAtCompany            1470 non-null   int64 \n",
      " 32  YearsInCurrentRole        1470 non-null   int64 \n",
      " 33  YearsSinceLastPromotion   1470 non-null   int64 \n",
      " 34  YearsWithCurrManager      1470 non-null   int64 \n",
      "dtypes: int64(26), object(9)\n",
      "memory usage: 402.1+ KB\n"
     ]
    }
   ],
   "source": [
    "# we can run df.info() to check for nulls and other dtypes\n",
    "df.info()\n",
    "\n",
    "# All data-types are clean and at first glance no \n",
    "# nulls to worry about. "
   ]
  },
  {
   "cell_type": "markdown",
   "id": "d0a9280a",
   "metadata": {},
   "source": [
    "- We can Quantify the cost of lost employees\n",
    "- To do this : \n",
    "    - (site source)\n",
    "    - Let's assume 60% of salary to replace employees\n"
   ]
  },
  {
   "cell_type": "code",
   "execution_count": 15,
   "id": "1fef0975",
   "metadata": {},
   "outputs": [
    {
     "data": {
      "text/plain": [
       "237"
      ]
     },
     "execution_count": 15,
     "metadata": {},
     "output_type": "execute_result"
    }
   ],
   "source": [
    "(df.Attrition == \"Yes\").sum()"
   ]
  },
  {
   "cell_type": "code",
   "execution_count": 14,
   "id": "3dd81b3f",
   "metadata": {},
   "outputs": [
    {
     "data": {
      "text/plain": [
       "8168695.199999999"
      ]
     },
     "execution_count": 14,
     "metadata": {},
     "output_type": "execute_result"
    }
   ],
   "source": [
    "# get monthly income of attrition, then multiply by 12 to get yearly sum\n",
    "# then multiply by 60% to get statistically what it would cost\n",
    "# to replace those people \n",
    "df[df.Attrition == 'Yes'].MonthlyIncome.sum() * 12 * .6"
   ]
  },
  {
   "cell_type": "markdown",
   "id": "adcef853",
   "metadata": {},
   "source": [
    "## Takeaways so far:\n",
    "- Attrition is 60% above a 'healthy' level of 10%\n",
    "- it may cost at least $8m to replace the 237 employees who left"
   ]
  },
  {
   "cell_type": "markdown",
   "id": "3fe7e007",
   "metadata": {},
   "source": [
    "## Step 3: Answer your initial hypotheses questions with visuals and statistics (write down takeaways as you go)\n",
    "\n",
    "- if you were doing any ML, we would split the data and only explore the train instead of the entire dataset at this stagee\n",
    "- Exploring the dataset means understanding and interogating the relationships between variables and the target\n",
    "- Use descriptive statistics, visuals, hypothesis tests\n",
    "    - Visualize average monthly income to attrition\n",
    "    - Visualize job satisfaction to attrition\n",
    "    - Sometimes a few stats can tell a story, sometimes we need a handful of charts."
   ]
  },
  {
   "cell_type": "code",
   "execution_count": 16,
   "id": "4b5e8e79",
   "metadata": {
    "scrolled": true
   },
   "outputs": [
    {
     "data": {
      "text/plain": [
       "<AxesSubplot:xlabel='Attrition', ylabel='MonthlyIncome'>"
      ]
     },
     "execution_count": 16,
     "metadata": {},
     "output_type": "execute_result"
    },
    {
     "data": {
      "image/png": "[encoded data removed]",
      "text/plain": [
       "<Figure size 432x288 with 1 Axes>"
      ]
     },
     "metadata": {
      "needs_background": "light"
     },
     "output_type": "display_data"
    }
   ],
   "source": [
    "# barplots show average and we can specify categories\n",
    "sns.barplot(x = 'Attrition', y = 'MonthlyIncome', data=df)"
   ]
  },
  {
   "cell_type": "markdown",
   "id": "45c0b094",
   "metadata": {},
   "source": [
    "## Takeaway #1\n",
    "- Those with a lower monthly average leave the company"
   ]
  },
  {
   "cell_type": "code",
   "execution_count": 18,
   "id": "eb736687",
   "metadata": {
    "scrolled": false
   },
   "outputs": [
    {
     "data": {
      "text/plain": [
       "<AxesSubplot:xlabel='Attrition', ylabel='MonthlyIncome'>"
      ]
     },
     "execution_count": 18,
     "metadata": {},
     "output_type": "execute_result"
    },
    {
     "data": {
      "image/png": "[encoded data removed]",
      "text/plain": [
       "<Figure size 432x288 with 1 Axes>"
      ]
     },
     "metadata": {
      "needs_background": "light"
     },
     "output_type": "display_data"
    }
   ],
   "source": [
    "# boxplots show the median in the middle of the box (distribution)\n",
    "# lower bound of the box is 01, upper boundd is the 3rd quartile\n",
    "sns.boxplot(x='Attrition', y='MonthlyIncome', data=df)"
   ]
  },
  {
   "cell_type": "markdown",
   "id": "ebae1238",
   "metadata": {},
   "source": [
    "## Takeaway #2\n",
    "- Average and median and most incomes for those who left are lower than those who stayed"
   ]
  },
  {
   "cell_type": "code",
   "execution_count": 19,
   "id": "678d468c",
   "metadata": {},
   "outputs": [],
   "source": [
    "# does maritial status have anything to do with attrition\n",
    "lost = df[df.Attrition == 'Yes']\n",
    "kept = df[df.Attrition == 'No']"
   ]
  },
  {
   "cell_type": "code",
   "execution_count": 21,
   "id": "caff41e5",
   "metadata": {},
   "outputs": [
    {
     "data": {
      "text/plain": [
       "<AxesSubplot:>"
      ]
     },
     "execution_count": 21,
     "metadata": {},
     "output_type": "execute_result"
    },
    {
     "data": {
      "image/png": "[encoded data removed]",
      "text/plain": [
       "<Figure size 432x288 with 1 Axes>"
      ]
     },
     "metadata": {
      "needs_background": "light"
     },
     "output_type": "display_data"
    }
   ],
   "source": [
    "lost.MaritalStatus.hist()"
   ]
  },
  {
   "cell_type": "code",
   "execution_count": 22,
   "id": "4b4d21bc",
   "metadata": {},
   "outputs": [
    {
     "data": {
      "text/plain": [
       "<AxesSubplot:>"
      ]
     },
     "execution_count": 22,
     "metadata": {},
     "output_type": "execute_result"
    },
    {
     "data": {
      "image/png": "[encoded data removed]",
      "text/plain": [
       "<Figure size 432x288 with 1 Axes>"
      ]
     },
     "metadata": {
      "needs_background": "light"
     },
     "output_type": "display_data"
    }
   ],
   "source": [
    "kept.MaritalStatus.hist()"
   ]
  },
  {
   "cell_type": "markdown",
   "id": "fd02eece",
   "metadata": {},
   "source": [
    "## Takeaway #3\n",
    "- Larger proportion of married employees who stay\n",
    "- Larger proportion of single people who left"
   ]
  },
  {
   "cell_type": "code",
   "execution_count": 24,
   "id": "1d16149b",
   "metadata": {
    "scrolled": true
   },
   "outputs": [
    {
     "data": {
      "text/plain": [
       "Male      732\n",
       "Female    501\n",
       "Name: Gender, dtype: int64"
      ]
     },
     "execution_count": 24,
     "metadata": {},
     "output_type": "execute_result"
    }
   ],
   "source": [
    "# whats the relationship between gender and attrition?\n",
    "kept.Gender.value_counts()"
   ]
  },
  {
   "cell_type": "code",
   "execution_count": 26,
   "id": "5a994516",
   "metadata": {},
   "outputs": [
    {
     "data": {
      "text/plain": [
       "0.40632603406326034"
      ]
     },
     "execution_count": 26,
     "metadata": {},
     "output_type": "execute_result"
    }
   ],
   "source": [
    "501 / (kept.shape[0])\n",
    "# proportion of women employees staying"
   ]
  },
  {
   "cell_type": "code",
   "execution_count": 25,
   "id": "d8e69381",
   "metadata": {},
   "outputs": [
    {
     "data": {
      "text/plain": [
       "Male      150\n",
       "Female     87\n",
       "Name: Gender, dtype: int64"
      ]
     },
     "execution_count": 25,
     "metadata": {},
     "output_type": "execute_result"
    }
   ],
   "source": [
    "lost.Gender.value_counts()"
   ]
  },
  {
   "cell_type": "code",
   "execution_count": 27,
   "id": "07bae4f7",
   "metadata": {},
   "outputs": [
    {
     "data": {
      "text/plain": [
       "0.3670886075949367"
      ]
     },
     "execution_count": 27,
     "metadata": {},
     "output_type": "execute_result"
    }
   ],
   "source": [
    "87 / lost.shape[0]\n",
    "# proportion of women employees leaving"
   ]
  },
  {
   "cell_type": "code",
   "execution_count": 29,
   "id": "95b75878",
   "metadata": {},
   "outputs": [
    {
     "data": {
      "text/plain": [
       "<seaborn.axisgrid.PairGrid at 0x7fb409dbb1f0>"
      ]
     },
     "execution_count": 29,
     "metadata": {},
     "output_type": "execute_result"
    },
    {
     "data": {
      "image/png": "[encoded data removed]",
      "text/plain": [
       "<Figure size 540x540 with 12 Axes>"
      ]
     },
     "metadata": {
      "needs_background": "light"
     },
     "output_type": "display_data"
    }
   ],
   "source": [
    "# this is not a good way to compare THIS TYPE of data. DONT\n",
    "sns.pairplot(data=df[[\"MonthlyIncome\",\"JobSatisfaction\",\"RelationshipSatisfaction\"]])"
   ]
  },
  {
   "cell_type": "code",
   "execution_count": 31,
   "id": "4af145ae",
   "metadata": {},
   "outputs": [
    {
     "data": {
      "text/plain": [
       "<AxesSubplot:xlabel='Attrition', ylabel='MonthlyIncome'>"
      ]
     },
     "execution_count": 31,
     "metadata": {},
     "output_type": "execute_result"
    },
    {
     "data": {
      "image/png": "[encoded data removed]",
      "text/plain": [
       "<Figure size 432x288 with 1 Axes>"
      ]
     },
     "metadata": {
      "needs_background": "light"
     },
     "output_type": "display_data"
    }
   ],
   "source": [
    "# use hue to get another dimension\n",
    "# like using it on marital status\n",
    "sns.boxplot(x='Attrition', y='MonthlyIncome',hue = \"MaritalStatus\", data=df)"
   ]
  },
  {
   "cell_type": "code",
   "execution_count": 32,
   "id": "09eb3b2e",
   "metadata": {
    "scrolled": true
   },
   "outputs": [
    {
     "data": {
      "text/plain": [
       "<seaborn.axisgrid.FacetGrid at 0x7fb41accbdf0>"
      ]
     },
     "execution_count": 32,
     "metadata": {},
     "output_type": "execute_result"
    },
    {
     "data": {
      "image/png": "[encoded data removed]",
      "text/plain": [
       "<Figure size 720x360 with 2 Axes>"
      ]
     },
     "metadata": {
      "needs_background": "light"
     },
     "output_type": "display_data"
    }
   ],
   "source": [
    "sns.relplot(x='MonthlyIncome', y=\"YearsInCurrentRole\", col=\"Attrition\", data=df)"
   ]
  },
  {
   "cell_type": "markdown",
   "id": "a5473564",
   "metadata": {},
   "source": [
    "## Takeaway #4\n",
    "- People who stayed have been at the role longer than those who left\n",
    "- Each point on a relplot is an individual"
   ]
  },
  {
   "cell_type": "code",
   "execution_count": 33,
   "id": "b15cabea",
   "metadata": {},
   "outputs": [
    {
     "data": {
      "text/plain": [
       "<AxesSubplot:xlabel='Attrition', ylabel='YearsInCurrentRole'>"
      ]
     },
     "execution_count": 33,
     "metadata": {},
     "output_type": "execute_result"
    },
    {
     "data": {
      "image/png": "[encoded data removed]",
      "text/plain": [
       "<Figure size 432x288 with 1 Axes>"
      ]
     },
     "metadata": {
      "needs_background": "light"
     },
     "output_type": "display_data"
    }
   ],
   "source": [
    "#bar plot shows averages\n",
    "\n",
    "sns.barplot(x='Attrition', y=\"YearsInCurrentRole\", data=df)"
   ]
  },
  {
   "cell_type": "code",
   "execution_count": 34,
   "id": "6f13bfea",
   "metadata": {},
   "outputs": [
    {
     "data": {
      "text/plain": [
       "<AxesSubplot:xlabel='Attrition', ylabel='YearsInCurrentRole'>"
      ]
     },
     "execution_count": 34,
     "metadata": {},
     "output_type": "execute_result"
    },
    {
     "data": {
      "image/png": "[encoded data removed]",
      "text/plain": [
       "<Figure size 432x288 with 1 Axes>"
      ]
     },
     "metadata": {
      "needs_background": "light"
     },
     "output_type": "display_data"
    }
   ],
   "source": [
    "# box plot shows distribution and spread\n",
    "\n",
    "sns.boxplot(x='Attrition', y=\"YearsInCurrentRole\", data=df)"
   ]
  },
  {
   "cell_type": "code",
   "execution_count": 36,
   "id": "7b590df2",
   "metadata": {},
   "outputs": [
    {
     "data": {
      "text/plain": [
       "<AxesSubplot:xlabel='Attrition', ylabel='YearsSinceLastPromotion'>"
      ]
     },
     "execution_count": 36,
     "metadata": {},
     "output_type": "execute_result"
    },
    {
     "data": {
      "image/png": "[encoded data removed]",
      "text/plain": [
       "<Figure size 432x288 with 1 Axes>"
      ]
     },
     "metadata": {
      "needs_background": "light"
     },
     "output_type": "display_data"
    }
   ],
   "source": [
    "# box plot shows distribution and spread\n",
    "\n",
    "sns.barplot(x='Attrition', y=\"YearsSinceLastPromotion\", data=df)"
   ]
  },
  {
   "cell_type": "code",
   "execution_count": null,
   "id": "a7fb2222",
   "metadata": {},
   "outputs": [],
   "source": []
  }
 ],
 "metadata": {
  "kernelspec": {
   "display_name": "Python 3 (ipykernel)",
   "language": "python",
   "name": "python3"
  },
  "language_info": {
   "codemirror_mode": {
    "name": "ipython",
    "version": 3
   },
   "file_extension": ".py",
   "mimetype": "text/x-python",
   "name": "python",
   "nbconvert_exporter": "python",
   "pygments_lexer": "ipython3",
   "version": "3.9.7"
  }
 },
 "nbformat": 4,
 "nbformat_minor": 5
}
